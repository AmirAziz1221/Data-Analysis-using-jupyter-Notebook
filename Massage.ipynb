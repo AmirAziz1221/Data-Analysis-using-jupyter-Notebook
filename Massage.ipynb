{
 "cells": [
  {
   "cell_type": "markdown",
   "id": "6fb36213",
   "metadata": {},
   "source": [
    "# Sending more than one same massage to some one"
   ]
  },
  {
   "cell_type": "code",
   "execution_count": 16,
   "id": "4f5f0161",
   "metadata": {},
   "outputs": [],
   "source": [
    "import openpyxl as x"
   ]
  },
  {
   "cell_type": "code",
   "execution_count": 3,
   "id": "bfb06896",
   "metadata": {},
   "outputs": [],
   "source": [
    "import pyautogui as z\n",
    "import time\n",
    "time.sleep(5)     #Time after the massage start sending \n",
    "count=0\n",
    "while count<=50:   #write the massage number that u send \n",
    "    z.typewrite(\"i am Amir Aziz\") #Type your massage \n",
    "    z.press(\"Enter\") \n",
    "    count=count+1"
   ]
  }
 ],
 "metadata": {
  "kernelspec": {
   "display_name": "Python 3 (ipykernel)",
   "language": "python",
   "name": "python3"
  },
  "language_info": {
   "codemirror_mode": {
    "name": "ipython",
    "version": 3
   },
   "file_extension": ".py",
   "mimetype": "text/x-python",
   "name": "python",
   "nbconvert_exporter": "python",
   "pygments_lexer": "ipython3",
   "version": "3.11.5"
  }
 },
 "nbformat": 4,
 "nbformat_minor": 5
}
