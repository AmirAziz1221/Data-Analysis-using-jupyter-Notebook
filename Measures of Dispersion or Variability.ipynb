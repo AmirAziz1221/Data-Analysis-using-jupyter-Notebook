{
 "cells": [
  {
   "cell_type": "markdown",
   "id": "83acaadc",
   "metadata": {},
   "source": [
    "# import libraries"
   ]
  },
  {
   "cell_type": "code",
   "execution_count": 1,
   "id": "a12f19d9",
   "metadata": {},
   "outputs": [],
   "source": [
    "import pandas as pd\n",
    "import numpy as np"
   ]
  },
  {
   "cell_type": "markdown",
   "id": "30844878",
   "metadata": {},
   "source": [
    "# Data set"
   ]
  },
  {
   "cell_type": "code",
   "execution_count": 2,
   "id": "214c7cee",
   "metadata": {},
   "outputs": [],
   "source": [
    "data=[22,35,29,34,88,67,55,65,90,71,11]"
   ]
  },
  {
   "cell_type": "markdown",
   "id": "9c8fafb0",
   "metadata": {},
   "source": [
    "# calculate range"
   ]
  },
  {
   "cell_type": "code",
   "execution_count": 3,
   "id": "35107898",
   "metadata": {},
   "outputs": [
    {
     "name": "stdout",
     "output_type": "stream",
     "text": [
      "Range:  79\n"
     ]
    }
   ],
   "source": [
    "data_range=np.ptp(data)\n",
    "print(\"Range: \",data_range)"
   ]
  },
  {
   "cell_type": "markdown",
   "id": "81686101",
   "metadata": {},
   "source": [
    "# Calculate Variance"
   ]
  },
  {
   "cell_type": "code",
   "execution_count": 4,
   "id": "71af6a51",
   "metadata": {},
   "outputs": [
    {
     "name": "stdout",
     "output_type": "stream",
     "text": [
      "Variance:  656.793388429752\n"
     ]
    }
   ],
   "source": [
    "data_variance = np.var(data)\n",
    "print(\"Variance: \",data_variance)"
   ]
  },
  {
   "cell_type": "markdown",
   "id": "378644b9",
   "metadata": {},
   "source": [
    "# Calculate Standard Deviation"
   ]
  },
  {
   "cell_type": "code",
   "execution_count": 5,
   "id": "cd4cd028",
   "metadata": {},
   "outputs": [
    {
     "name": "stdout",
     "output_type": "stream",
     "text": [
      "Standard Deviation:  25.62798057650567\n"
     ]
    }
   ],
   "source": [
    "data_std_dev=np.std(data)\n",
    "print(\"Standard Deviation: \",data_std_dev)"
   ]
  },
  {
   "cell_type": "markdown",
   "id": "2d5fd79e",
   "metadata": {},
   "source": [
    "# Mean Absolute Deviation (MAD)"
   ]
  },
  {
   "cell_type": "code",
   "execution_count": 14,
   "id": "bcf06180",
   "metadata": {},
   "outputs": [
    {
     "name": "stdout",
     "output_type": "stream",
     "text": [
      "Mean Absolute Deviation (MAD): 23.041322314049584\n"
     ]
    }
   ],
   "source": [
    "data_mean=np.mean(data) #calculates the average of all the numbers in your dataset\n",
    "MAD=np.mean(np.abs(np.array(data)-data_mean))\n",
    "#np.array(data) - data_mean calculates how much each number in the dataset differs from the mean.\n",
    "#np.abs(...) takes the absolute value of these differences, ensuring they're all positive.\n",
    "#np.mean(...) finds the average of all these absolute deviations.\n",
    "print(\"Mean Absolute Deviation (MAD):\",MAD)"
   ]
  },
  {
   "cell_type": "markdown",
   "id": "9e1bf7cc",
   "metadata": {},
   "source": [
    "# sort data and find Q1,Q3"
   ]
  },
  {
   "cell_type": "code",
   "execution_count": 12,
   "id": "17ba41f8",
   "metadata": {},
   "outputs": [],
   "source": [
    "data.sort()\n",
    "Q1=np.percentile(data,29)\n",
    "Q3=np.percentile(data,71)"
   ]
  },
  {
   "cell_type": "markdown",
   "id": "c7041ac6",
   "metadata": {},
   "source": [
    "# Find Interquartile Rande(IQR)"
   ]
  },
  {
   "cell_type": "code",
   "execution_count": 13,
   "id": "74b8b072",
   "metadata": {},
   "outputs": [
    {
     "name": "stdout",
     "output_type": "stream",
     "text": [
      "Q1: 33.5\n",
      "Q3: 67.4\n",
      "Interquartile Range (IQR):  33.900000000000006\n"
     ]
    }
   ],
   "source": [
    "IQR=Q3-Q1\n",
    "print(\"Q1:\",Q1)\n",
    "print(\"Q3:\",Q3)\n",
    "print(\"Interquartile Range (IQR): \",IQR)"
   ]
  }
 ],
 "metadata": {
  "kernelspec": {
   "display_name": "Python 3 (ipykernel)",
   "language": "python",
   "name": "python3"
  },
  "language_info": {
   "codemirror_mode": {
    "name": "ipython",
    "version": 3
   },
   "file_extension": ".py",
   "mimetype": "text/x-python",
   "name": "python",
   "nbconvert_exporter": "python",
   "pygments_lexer": "ipython3",
   "version": "3.11.5"
  }
 },
 "nbformat": 4,
 "nbformat_minor": 5
}
