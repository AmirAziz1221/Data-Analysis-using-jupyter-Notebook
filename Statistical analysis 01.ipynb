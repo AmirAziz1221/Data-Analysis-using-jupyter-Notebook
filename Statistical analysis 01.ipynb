{
 "cells": [
  {
   "cell_type": "code",
   "execution_count": 1,
   "id": "d5423923",
   "metadata": {},
   "outputs": [],
   "source": [
    "import pandas as pd\n",
    "import numpy as np"
   ]
  },
  {
   "cell_type": "markdown",
   "id": "9ef36794",
   "metadata": {},
   "source": [
    "## Creat a DataSet"
   ]
  },
  {
   "cell_type": "code",
   "execution_count": 2,
   "id": "180cd490",
   "metadata": {},
   "outputs": [
    {
     "name": "stdout",
     "output_type": "stream",
     "text": [
      "[170, 165, 155, 175, 66, 45, 22, 45, 67, 12, 334, 567, 34, 567, 334, 12, 13, 14, 145, 16, 19, 90, 9, 87, 65, 43, 23, 46, 9, 7]\n",
      "[58, 52, 63, 33, 34, 55, 67, 888, 232, 233, 18, 89, 67, 777, 78, 87, 123, 213, 124, 656, 345, 345, 345, 345, 34, 34, 24, 24, 23, 12]\n",
      "['Human', 'Human', 'Human', 'Human', 'Human', 'Human', 'Human', 'Animal', 'Animal', 'Animal', 'Human', 'Human', 'Human', 'Animal', 'Human', 'Human', 'Human', 'Animal', 'Human', 'Animal', 'Animal', 'Animal', 'Animal', 'Animal', 'Human', 'Human', 'Human', 'Human', 'Human', 'Human']\n"
     ]
    }
   ],
   "source": [
    "height = [170, 165, 155, 175, 66, 45, 22, 45, 67, 12, 334, 567, 34, 567, 334, 12, 13, 14, 145, 16, 19, 90, 9, 87, 65, 43, 23, 46, 9, 7]\n",
    "weight = [58, 52, 63, 33, 34, 55, 67, 888, 232, 233, 18, 89, 67, 777, 78, 87, 123, 213, 124, 656, 345, 345, 345, 345, 34, 34, 24, 24, 23, 12]\n",
    "\n",
    "classification = [''] * len(weight)  # Initializing classification list\n",
    "\n",
    "for i in range(len(weight)):\n",
    "    if weight[i] > 150:\n",
    "        classification[i] = \"Animal\"\n",
    "    else:\n",
    "        classification[i] = \"Human\"\n",
    "print(height)\n",
    "print(weight)\n",
    "print(classification)"
   ]
  },
  {
   "cell_type": "code",
   "execution_count": 4,
   "id": "66443b9c",
   "metadata": {},
   "outputs": [
    {
     "name": "stdout",
     "output_type": "stream",
     "text": [
      "    height  weight classification\n",
      "0      170      58          Human\n",
      "1      165      52          Human\n",
      "2      155      63          Human\n",
      "3      175      33          Human\n",
      "4       66      34          Human\n",
      "5       45      55          Human\n",
      "6       22      67          Human\n",
      "7       45     888         Animal\n",
      "8       67     232         Animal\n",
      "9       12     233         Animal\n",
      "10     334      18          Human\n",
      "11     567      89          Human\n",
      "12      34      67          Human\n",
      "13     567     777         Animal\n",
      "14     334      78          Human\n",
      "15      12      87          Human\n",
      "16      13     123          Human\n",
      "17      14     213         Animal\n",
      "18     145     124          Human\n",
      "19      16     656         Animal\n",
      "20      19     345         Animal\n",
      "21      90     345         Animal\n",
      "22       9     345         Animal\n",
      "23      87     345         Animal\n",
      "24      65      34          Human\n",
      "25      43      34          Human\n",
      "26      23      24          Human\n",
      "27      46      24          Human\n",
      "28       9      23          Human\n",
      "29       7      12          Human\n"
     ]
    }
   ],
   "source": [
    "data = {\n",
    "    'height':height,\n",
    "    'weight':weight,\n",
    "    'classification':classification\n",
    "}\n",
    "df=pd.DataFrame(data)\n",
    "print(df)"
   ]
  },
  {
   "cell_type": "code",
   "execution_count": null,
   "id": "1e106643",
   "metadata": {},
   "outputs": [],
   "source": []
  }
 ],
 "metadata": {
  "kernelspec": {
   "display_name": "Python 3 (ipykernel)",
   "language": "python",
   "name": "python3"
  },
  "language_info": {
   "codemirror_mode": {
    "name": "ipython",
    "version": 3
   },
   "file_extension": ".py",
   "mimetype": "text/x-python",
   "name": "python",
   "nbconvert_exporter": "python",
   "pygments_lexer": "ipython3",
   "version": "3.11.5"
  }
 },
 "nbformat": 4,
 "nbformat_minor": 5
}
