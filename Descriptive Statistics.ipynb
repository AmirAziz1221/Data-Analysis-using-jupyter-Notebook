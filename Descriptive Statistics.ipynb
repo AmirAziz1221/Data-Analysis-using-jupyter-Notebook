{
 "cells": [
  {
   "attachments": {},
   "cell_type": "markdown",
   "id": "2ef1cf26",
   "metadata": {},
   "source": [
    "# <center>Descriptive Statistics</center>\n"
   ]
  },
  {
   "cell_type": "code",
   "execution_count": 44,
   "id": "d4c4554e",
   "metadata": {},
   "outputs": [],
   "source": [
    "import pandas as pd\n",
    "import numpy as np\n",
    "from scipy import stats\n",
    "import matplotlib.pyplot as plt\n",
    "import seaborn as sns\n",
    "from scipy.stats import skew, kurtosis"
   ]
  },
  {
   "cell_type": "markdown",
   "id": "4169e3f0",
   "metadata": {},
   "source": [
    "# Dataset"
   ]
  },
  {
   "cell_type": "code",
   "execution_count": 5,
   "id": "dac8b1e7",
   "metadata": {},
   "outputs": [],
   "source": [
    "height = [170, 165, 155, 175, 66, 45, 22, 45, 67, 12, 334, 567, 34, 567, 334, 12, 13, 14, 145, 16, 19, 90, 9, 87, 65, 43, 23, 46, 9, 7]\n",
    "weight = [58, 52, 63, 33, 34, 55, 67, 888, 232, 233, 18, 89, 67, 777, 78, 87, 123, 213, 124, 656, 345, 345, 345, 345, 34, 34, 24, 24, 23, 12]\n",
    "\n",
    "classification = [''] * len(weight)  # Initializing classification list\n",
    "\n",
    "for i in range(len(weight)):\n",
    "    if weight[i] > 150:\n",
    "        classification[i] = \"Animal\"\n",
    "    else:\n",
    "        classification[i] = \"Human\""
   ]
  },
  {
   "cell_type": "code",
   "execution_count": 42,
   "id": "ce1872e0",
   "metadata": {},
   "outputs": [
    {
     "name": "stdout",
     "output_type": "stream",
     "text": [
      "    height  weight classification\n",
      "0      170      58          Human\n",
      "1      165      52          Human\n",
      "2      155      63          Human\n",
      "3      175      33          Human\n",
      "4       66      34          Human\n",
      "5       45      55          Human\n",
      "6       22      67          Human\n",
      "7       45     888         Animal\n",
      "8       67     232         Animal\n",
      "9       12     233         Animal\n",
      "10     334      18          Human\n",
      "11     567      89          Human\n",
      "12      34      67          Human\n",
      "13     567     777         Animal\n",
      "14     334      78          Human\n",
      "15      12      87          Human\n",
      "16      13     123          Human\n",
      "17      14     213         Animal\n",
      "18     145     124          Human\n",
      "19      16     656         Animal\n",
      "20      19     345         Animal\n",
      "21      90     345         Animal\n",
      "22       9     345         Animal\n",
      "23      87     345         Animal\n",
      "24      65      34          Human\n",
      "25      43      34          Human\n",
      "26      23      24          Human\n",
      "27      46      24          Human\n",
      "28       9      23          Human\n",
      "29       7      12          Human\n"
     ]
    }
   ],
   "source": [
    "data = {\n",
    "    'height':height,\n",
    "    'weight':weight,\n",
    "    'classification':classification\n",
    "}\n",
    "df=pd.DataFrame(data)\n",
    "print(df)"
   ]
  },
  {
   "cell_type": "code",
   "execution_count": 7,
   "id": "0f368245",
   "metadata": {},
   "outputs": [
    {
     "name": "stdout",
     "output_type": "stream",
     "text": [
      "Absolute Mean Deviation for height: 107.01333333333335\n",
      "Absolute Mean Devaiaion for weight: 170.20000000000007\n"
     ]
    }
   ],
   "source": [
    "#absolute mean deviation\n",
    "mean_dev_hei=np.mean(np.abs(height-np.mean(height)))\n",
    "mean_dev_wei=np.mean(np.abs(weight-np.mean(weight)))\n",
    "print(\"Absolute Mean Deviation for height:\",mean_dev_hei)\n",
    "print(\"Absolute Mean Devaiaion for weight:\",mean_dev_wei)"
   ]
  },
  {
   "cell_type": "code",
   "execution_count": 8,
   "id": "cdae6b89",
   "metadata": {},
   "outputs": [
    {
     "name": "stdout",
     "output_type": "stream",
     "text": [
      "Standard Deviation for Height: 148.64605238245946\n",
      "Standard Deviation for Weight: 226.03341935799375\n"
     ]
    }
   ],
   "source": [
    "#Standard Deviation\n",
    "std_dev_hei=np.std(height)\n",
    "std_dev_wei=np.std(weight)\n",
    "print(\"Standard Deviation for Height:\",std_dev_hei)\n",
    "print(\"Standard Deviation for Weight:\",std_dev_wei)"
   ]
  },
  {
   "cell_type": "markdown",
   "id": "8c39cf4e",
   "metadata": {},
   "source": [
    "# Frequency distribution"
   ]
  },
  {
   "cell_type": "code",
   "execution_count": 11,
   "id": "474b55a1",
   "metadata": {},
   "outputs": [
    {
     "name": "stdout",
     "output_type": "stream",
     "text": [
      "Frequency Distribution: classification\n",
      "Human     20\n",
      "Animal    10\n",
      "Name: count, dtype: int64\n"
     ]
    }
   ],
   "source": [
    "freq_dis = df['classification'].value_counts()\n",
    "print(\"Frequency Distribution:\",freq_dis)"
   ]
  },
  {
   "cell_type": "markdown",
   "id": "1bffd503",
   "metadata": {},
   "source": [
    "# Find Percentile"
   ]
  },
  {
   "cell_type": "code",
   "execution_count": 17,
   "id": "6e1878e7",
   "metadata": {},
   "outputs": [
    {
     "name": "stdout",
     "output_type": "stream",
     "text": [
      "Percentile of Weight: classification      \n",
      "Animal          0.25    261.00\n",
      "                0.50    345.00\n",
      "                0.75    578.25\n",
      "Human           0.25     30.75\n",
      "                0.50     53.50\n",
      "                0.75     69.75\n",
      "Name: weight, dtype: float64\n",
      "Percentile Height:  classification      \n",
      "Animal          0.50     32.00\n",
      "                0.50     32.00\n",
      "                0.75     82.00\n",
      "Human           0.50     55.50\n",
      "                0.50     55.50\n",
      "                0.75    166.25\n",
      "Name: height, dtype: float64\n"
     ]
    }
   ],
   "source": [
    "percentile_height=df.groupby('classification')['height'].quantile([0.5,0.50,0.75])\n",
    "percentile_weight = df.groupby('classification')['weight'].quantile([0.25, 0.50, 0.75])\n",
    "print(\"Percentile of Weight:\",percentile_weight)\n",
    "print(\"Percentile Height: \",percentile_height)"
   ]
  },
  {
   "cell_type": "code",
   "execution_count": 19,
   "id": "b657fd01",
   "metadata": {},
   "outputs": [
    {
     "name": "stdout",
     "output_type": "stream",
     "text": [
      "\n",
      "Height Quartiles:\n",
      "classification      \n",
      "Animal          0.25     14.50\n",
      "                0.75     82.00\n",
      "Human           0.25     22.75\n",
      "                0.75    166.25\n",
      "Name: height, dtype: float64\n",
      "\n",
      "Weight Quartiles:\n",
      "classification      \n",
      "Animal          0.25    261.00\n",
      "                0.75    578.25\n",
      "Human           0.25     30.75\n",
      "                0.75     69.75\n",
      "Name: weight, dtype: float64\n"
     ]
    }
   ],
   "source": [
    "quartiles_height = df.groupby('classification')['height'].quantile([0.25, 0.75])\n",
    "quartiles_weight = df.groupby('classification')['weight'].quantile([0.25, 0.75])\n",
    "print(\"\\nHeight Quartiles:\")\n",
    "print(quartiles_height)\n",
    "print(\"\\nWeight Quartiles:\")\n",
    "print(quartiles_weight)\n"
   ]
  },
  {
   "cell_type": "markdown",
   "id": "7d9ec4b9",
   "metadata": {},
   "source": [
    "# Correlation and Covariance"
   ]
  },
  {
   "cell_type": "markdown",
   "id": "1a766a08",
   "metadata": {},
   "source": [
    "### Correlation"
   ]
  },
  {
   "cell_type": "code",
   "execution_count": 24,
   "id": "d462fbe4",
   "metadata": {},
   "outputs": [
    {
     "name": "stdout",
     "output_type": "stream",
     "text": [
      "Correlation Matrix: \n",
      "          height    weight\n",
      "height  1.000000  0.120516\n",
      "weight  0.120516  1.000000\n"
     ]
    }
   ],
   "source": [
    "numerical_data = df[['height','weight']]\n",
    "correlation_matrix=numerical_data.corr()\n",
    "print(\"Correlation Matrix: \")\n",
    "print(correlation_matrix)"
   ]
  },
  {
   "cell_type": "markdown",
   "id": "6b20c7c7",
   "metadata": {},
   "source": [
    "### Covariance"
   ]
  },
  {
   "cell_type": "code",
   "execution_count": 25,
   "id": "948a4c03",
   "metadata": {},
   "outputs": [
    {
     "name": "stdout",
     "output_type": "stream",
     "text": [
      "\n",
      " Covariance Matrix:\n",
      "              height        weight\n",
      "height  22857.567816   4188.841379\n",
      "weight   4188.841379  52852.868966\n"
     ]
    }
   ],
   "source": [
    "covariance_matrix=numerical_data.cov()\n",
    "print(\"\\n Covariance Matrix:\")\n",
    "print(covariance_matrix)"
   ]
  },
  {
   "cell_type": "markdown",
   "id": "2abf6f95",
   "metadata": {},
   "source": [
    "# Data Visualization Techniques"
   ]
  },
  {
   "cell_type": "markdown",
   "id": "2aa82bc6",
   "metadata": {},
   "source": [
    "## Scatter Plot"
   ]
  },
  {
   "cell_type": "code",
   "execution_count": 30,
   "id": "50759b21",
   "metadata": {},
   "outputs": [
    {
     "data": {
      "image/png": "[encoded data removed]",
      "text/plain": [
       "<Figure size 800x600 with 1 Axes>"
      ]
     },
     "metadata": {},
     "output_type": "display_data"
    }
   ],
   "source": [
    "plt.figure(figsize=(8,6))\n",
    "sns.scatterplot(x='height',y='weight',data=df,hue='classification')\n",
    "plt.title('Scatter Plot of Height vs Weight')\n",
    "plt.xlabel('height')\n",
    "plt.ylabel('weight')\n",
    "plt.show()"
   ]
  },
  {
   "cell_type": "markdown",
   "id": "b8a61327",
   "metadata": {},
   "source": [
    "## Boxplot"
   ]
  },
  {
   "cell_type": "code",
   "execution_count": 38,
   "id": "8386125b",
   "metadata": {},
   "outputs": [
    {
     "data": {
      "image/png": "[encoded data removed]",
      "text/plain": [
       "<Figure size 800x600 with 1 Axes>"
      ]
     },
     "metadata": {},
     "output_type": "display_data"
    }
   ],
   "source": [
    "plt.figure(figsize=(8, 6))\n",
    "sns.boxplot(x='classification', y='height', data=df)\n",
    "plt.title('Boxplot of Height by classification')\n",
    "plt.xlabel('Classification')\n",
    "plt.ylabel('Height')\n",
    "plt.show()"
   ]
  },
  {
   "cell_type": "markdown",
   "id": "927eef5d",
   "metadata": {},
   "source": [
    "## Violin Plot"
   ]
  },
  {
   "cell_type": "code",
   "execution_count": 39,
   "id": "11e97fba",
   "metadata": {},
   "outputs": [
    {
     "data": {
      "image/png": "[encoded data removed]",
      "text/plain": [
       "<Figure size 800x600 with 1 Axes>"
      ]
     },
     "metadata": {},
     "output_type": "display_data"
    }
   ],
   "source": [
    "plt.figure(figsize=(8, 6))\n",
    "sns.violinplot(x='classification', y='weight', data=df)\n",
    "plt.title('Violin Plot of Weight by Classification')\n",
    "plt.xlabel('Classification')\n",
    "plt.ylabel('Weight')\n",
    "plt.show()\n"
   ]
  },
  {
   "cell_type": "markdown",
   "id": "76d7af7e",
   "metadata": {},
   "source": [
    "# Skewness"
   ]
  },
  {
   "cell_type": "code",
   "execution_count": 45,
   "id": "edddaab9",
   "metadata": {},
   "outputs": [
    {
     "name": "stdout",
     "output_type": "stream",
     "text": [
      "Skewness of Height: 2.0182207403940566\n",
      "Skewness of weight: 1.834489864942929\n"
     ]
    }
   ],
   "source": [
    "skewness_height=skew(df['height'])\n",
    "skewness_weight=skew(df['weight'])\n",
    "print(\"Skewness of Height:\",skewness_height)\n",
    "print(\"Skewness of weight:\",skewness_weight)"
   ]
  },
  {
   "cell_type": "markdown",
   "id": "634db3a7",
   "metadata": {},
   "source": [
    "# Kurtosis"
   ]
  },
  {
   "cell_type": "code",
   "execution_count": 46,
   "id": "83c188c9",
   "metadata": {},
   "outputs": [
    {
     "name": "stdout",
     "output_type": "stream",
     "text": [
      "Kurtosis of Height: 3.2730323349090042\n",
      "Kurtosis of Weight 2.5238319654362007\n"
     ]
    }
   ],
   "source": [
    "kurtosis_height=kurtosis(df['height'])\n",
    "kurtosis_weight=kurtosis(df['weight'])\n",
    "print(\"Kurtosis of Height:\",kurtosis_height)\n",
    "print(\"Kurtosis of Weight\",kurtosis_weight)"
   ]
  },
  {
   "cell_type": "markdown",
   "id": "7a858025",
   "metadata": {},
   "source": [
    "### Data Cleaning and Handling Missing Values"
   ]
  },
  {
   "cell_type": "code",
   "execution_count": 47,
   "id": "770c500c",
   "metadata": {},
   "outputs": [
    {
     "name": "stdout",
     "output_type": "stream",
     "text": [
      "Missing Values:\n",
      "height            0\n",
      "weight            0\n",
      "classification    0\n",
      "dtype: int64\n",
      "    height  weight classification\n",
      "0      170      58          Human\n",
      "1      165      52          Human\n",
      "2      155      63          Human\n",
      "3      175      33          Human\n",
      "4       66      34          Human\n",
      "5       45      55          Human\n",
      "6       22      67          Human\n",
      "7       45     888         Animal\n",
      "8       67     232         Animal\n",
      "9       12     233         Animal\n",
      "10     334      18          Human\n",
      "11     567      89          Human\n",
      "12      34      67          Human\n",
      "13     567     777         Animal\n",
      "14     334      78          Human\n",
      "15      12      87          Human\n",
      "16      13     123          Human\n",
      "17      14     213         Animal\n",
      "18     145     124          Human\n",
      "19      16     656         Animal\n",
      "20      19     345         Animal\n",
      "21      90     345         Animal\n",
      "22       9     345         Animal\n",
      "23      87     345         Animal\n",
      "24      65      34          Human\n",
      "25      43      34          Human\n",
      "26      23      24          Human\n",
      "27      46      24          Human\n",
      "28       9      23          Human\n",
      "29       7      12          Human\n"
     ]
    }
   ],
   "source": [
    "print(\"Missing Values:\")\n",
    "print(df.isnull().sum())\n",
    "df_cleaned=df.dropna()\n",
    "print(df_cleaned)"
   ]
  }
 ],
 "metadata": {
  "kernelspec": {
   "display_name": "Python 3 (ipykernel)",
   "language": "python",
   "name": "python3"
  },
  "language_info": {
   "codemirror_mode": {
    "name": "ipython",
    "version": 3
   },
   "file_extension": ".py",
   "mimetype": "text/x-python",
   "name": "python",
   "nbconvert_exporter": "python",
   "pygments_lexer": "ipython3",
   "version": "3.11.5"
  }
 },
 "nbformat": 4,
 "nbformat_minor": 5
}
